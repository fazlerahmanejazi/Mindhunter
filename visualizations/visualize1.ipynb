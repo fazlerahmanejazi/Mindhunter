{
 "cells": [
  {
   "cell_type": "code",
   "execution_count": null,
   "metadata": {
    "collapsed": true
   },
   "outputs": [],
   "source": [
    "import pandas as pd\n",
    "import zipfile\n",
    "import matplotlib.pyplot as pl\n",
    "import numpy as np\n",
    "import seaborn as sns"
   ]
  },
  {
   "cell_type": "code",
   "execution_count": 2,
   "metadata": {},
   "outputs": [
    {
     "name": "stdout",
     "output_type": "stream",
     "text": [
      "['train.csv']\n"
     ]
    }
   ],
   "source": [
    "z = zipfile.ZipFile('/home/fazle/Desktop/MindHunter/data/train.csv.zip')\n",
    "print(z.namelist())"
   ]
  },
  {
   "cell_type": "code",
   "execution_count": 10,
   "metadata": {},
   "outputs": [
    {
     "name": "stdout",
     "output_type": "stream",
     "text": [
      "                Dates        Category                  Descript  DayOfWeek  \\\n",
      "0 2015-05-13 23:53:00        WARRANTS            WARRANT ARREST  Wednesday   \n",
      "1 2015-05-13 23:53:00  OTHER OFFENSES  TRAFFIC VIOLATION ARREST  Wednesday   \n",
      "\n",
      "  PdDistrict      Resolution             Address           X          Y  \n",
      "0   NORTHERN  ARREST, BOOKED  OAK ST / LAGUNA ST -122.425892  37.774599  \n",
      "1   NORTHERN  ARREST, BOOKED  OAK ST / LAGUNA ST -122.425892  37.774599  \n",
      "                Dates        Category                  Descript  DayOfWeek  \\\n",
      "0 2015-05-13 23:53:00        WARRANTS            WARRANT ARREST  Wednesday   \n",
      "1 2015-05-13 23:53:00  OTHER OFFENSES  TRAFFIC VIOLATION ARREST  Wednesday   \n",
      "\n",
      "  PdDistrict      Resolution             Address           X          Y  Year  \\\n",
      "0   NORTHERN  ARREST, BOOKED  OAK ST / LAGUNA ST -122.425892  37.774599  2015   \n",
      "1   NORTHERN  ARREST, BOOKED  OAK ST / LAGUNA ST -122.425892  37.774599  2015   \n",
      "\n",
      "   Week  Hour  \n",
      "0    20    23  \n",
      "1    20    23  \n"
     ]
    }
   ],
   "source": [
    "train = pd.read_csv(z.open('train.csv'), parse_dates=['Dates'])\n",
    "print(train.head(2))\n",
    "train['Year'] = train['Dates'].map(lambda x: x.year)\n",
    "train['Week'] = train['Dates'].map(lambda x: x.week)\n",
    "train['Hour'] = train['Dates'].map(lambda x: x.hour)\n",
    "print(train.head(2))"
   ]
  },
  {
   "cell_type": "code",
   "execution_count": 19,
   "metadata": {
    "collapsed": true
   },
   "outputs": [],
   "source": [
    "train['event']=1\n",
    "train.PdDistrict.value_counts().plot(kind='bar', figsize=(8,10))\n",
    "pl.savefig('district_counts.png')"
   ]
  },
  {
   "cell_type": "code",
   "execution_count": 20,
   "metadata": {
    "collapsed": true
   },
   "outputs": [],
   "source": [
    "hourly_events = train[['Hour','event']].groupby(['Hour']).count().reset_index()\n",
    "hourly_events.plot(kind='bar', figsize=(6, 6))\n",
    "pl.savefig('hourly_events.png')"
   ]
  },
  {
   "cell_type": "code",
   "execution_count": 22,
   "metadata": {
    "collapsed": true
   },
   "outputs": [],
   "source": [
    "hourly_district_events = train[['PdDistrict','Hour','event']].groupby(['PdDistrict','Hour']).count().reset_index()\n",
    "hourly_district_events_pivot = hourly_district_events.pivot(index='Hour', columns='PdDistrict', values='event').fillna(method='ffill')\n",
    "hourly_district_events_pivot.interpolate().plot(title='number of cases hourly by district', figsize=(10,6))\n",
    "pl.savefig('hourly_events_by_district.png')"
   ]
  }
 ],
 "metadata": {
  "kernelspec": {
   "display_name": "Python 3",
   "language": "python",
   "name": "python3"
  },
  "language_info": {
   "codemirror_mode": {
    "name": "ipython",
    "version": 3
   },
   "file_extension": ".py",
   "mimetype": "text/x-python",
   "name": "python",
   "nbconvert_exporter": "python",
   "pygments_lexer": "ipython3",
   "version": "3.6.3"
  }
 },
 "nbformat": 4,
 "nbformat_minor": 2
}
